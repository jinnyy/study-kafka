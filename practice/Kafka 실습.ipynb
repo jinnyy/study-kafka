{
 "cells": [
  {
   "cell_type": "markdown",
   "metadata": {},
   "source": [
    "# Kafka 실습"
   ]
  },
  {
   "cell_type": "code",
   "execution_count": 1,
   "metadata": {},
   "outputs": [],
   "source": [
    "from kafka import KafkaProducer\n",
    "from kafka import KafkaConsumer\n",
    "from kafka.client import KafkaClient\n",
    "from kafka import TopicPartition\n",
    "\n",
    "import json\n",
    "import msgpack"
   ]
  },
  {
   "cell_type": "code",
   "execution_count": 2,
   "metadata": {},
   "outputs": [],
   "source": [
    "zookeeper_servers = ['localhost:2181']\n",
    "bootstrap_servers = ['localhost:9092']"
   ]
  },
  {
   "cell_type": "markdown",
   "metadata": {},
   "source": [
    "<br>\n",
    "\n",
    "# Producer\n",
    "#### 단일 메시지 전송"
   ]
  },
  {
   "cell_type": "code",
   "execution_count": 3,
   "metadata": {},
   "outputs": [
    {
     "data": {
      "text/plain": [
       "<kafka.producer.future.FutureRecordMetadata at 0x106e86ba8>"
      ]
     },
     "execution_count": 3,
     "metadata": {},
     "output_type": "execute_result"
    }
   ],
   "source": [
    "producer = KafkaProducer(bootstrap_servers=bootstrap_servers)\n",
    "\n",
    "producer.send('test', b'test message')"
   ]
  },
  {
   "cell_type": "markdown",
   "metadata": {},
   "source": [
    "#### 다수 메시지 전송"
   ]
  },
  {
   "cell_type": "code",
   "execution_count": 6,
   "metadata": {},
   "outputs": [],
   "source": [
    "producer = KafkaProducer(acks=1, compression_type='gzip', bootstrap_servers=bootstrap_servers)\n",
    "\n",
    "for i in range(1, 11):\n",
    "\tproducer.send('test', b'iterating messages - %d' % i)"
   ]
  },
  {
   "cell_type": "markdown",
   "metadata": {},
   "source": [
    "<br>\n",
    "\n",
    "# Consumer\n",
    "위 producer에서 전송한 메시지를 받아볼 수 있다."
   ]
  },
  {
   "cell_type": "code",
   "execution_count": 4,
   "metadata": {},
   "outputs": [],
   "source": [
    "consumer = KafkaConsumer('test',group_id='test-consumer-1',\\\n",
    "                         bootstrap_servers=bootstrap_servers, enable_auto_commit=True, \\\n",
    "                         auto_offset_reset='latest', consumer_timeout_ms=1000)"
   ]
  },
  {
   "cell_type": "markdown",
   "metadata": {},
   "source": [
    "#### 단일 메시지 전송 후"
   ]
  },
  {
   "cell_type": "code",
   "execution_count": 5,
   "metadata": {},
   "outputs": [
    {
     "name": "stdout",
     "output_type": "stream",
     "text": [
      "Topic: test, Partition: 0, Offset: 23, Key: None, Value: test message\n"
     ]
    }
   ],
   "source": [
    "for message in consumer:\n",
    "    print( \"Topic: {}, Partition: {}, Offset: {}, Key: {}, Value: {}\".format(message.topic, message.partition, message.offset, message.key, message.value.decode('utf-8')) )"
   ]
  },
  {
   "cell_type": "markdown",
   "metadata": {},
   "source": [
    "#### 다수 메시지 전송 후"
   ]
  },
  {
   "cell_type": "code",
   "execution_count": 7,
   "metadata": {},
   "outputs": [
    {
     "name": "stdout",
     "output_type": "stream",
     "text": [
      "Topic: test, Partition: 0, Offset: 24, Key: None, Value: iterating messages - 1\n",
      "Topic: test, Partition: 0, Offset: 25, Key: None, Value: iterating messages - 2\n",
      "Topic: test, Partition: 0, Offset: 26, Key: None, Value: iterating messages - 3\n",
      "Topic: test, Partition: 0, Offset: 27, Key: None, Value: iterating messages - 4\n",
      "Topic: test, Partition: 0, Offset: 28, Key: None, Value: iterating messages - 5\n",
      "Topic: test, Partition: 0, Offset: 29, Key: None, Value: iterating messages - 6\n",
      "Topic: test, Partition: 0, Offset: 30, Key: None, Value: iterating messages - 7\n",
      "Topic: test, Partition: 0, Offset: 31, Key: None, Value: iterating messages - 8\n",
      "Topic: test, Partition: 0, Offset: 32, Key: None, Value: iterating messages - 9\n",
      "Topic: test, Partition: 0, Offset: 33, Key: None, Value: iterating messages - 10\n"
     ]
    }
   ],
   "source": [
    "for message in consumer:\n",
    "    print( \"Topic: {}, Partition: {}, Offset: {}, Key: {}, Value: {}\".format(message.topic, message.partition, message.offset, message.key, message.value.decode('utf-8')) )"
   ]
  },
  {
   "cell_type": "markdown",
   "metadata": {},
   "source": [
    "<br>"
   ]
  }
 ],
 "metadata": {
  "kernelspec": {
   "display_name": "Python 3",
   "language": "python",
   "name": "python3"
  },
  "language_info": {
   "codemirror_mode": {
    "name": "ipython",
    "version": 3
   },
   "file_extension": ".py",
   "mimetype": "text/x-python",
   "name": "python",
   "nbconvert_exporter": "python",
   "pygments_lexer": "ipython3",
   "version": "3.7.1"
  }
 },
 "nbformat": 4,
 "nbformat_minor": 2
}
